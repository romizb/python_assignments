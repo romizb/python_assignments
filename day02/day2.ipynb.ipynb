{
 "cells": [
  {
   "cell_type": "code",
   "execution_count": 1,
   "id": "8e177c69-dcb6-4c4f-bb03-5698b3462c0f",
   "metadata": {},
   "outputs": [],
   "source": [
    "# Define dimensions for the rectangle\n",
    "width = 5   # changable \n",
    "length = 10 # changable \n",
    "\n",
    "# Define radius for the circle\n",
    "radius = 7  # changable \n"
   ]
  },
  {
   "cell_type": "code",
   "execution_count": 2,
   "id": "e61b03ba-d13c-4d59-9314-6581aa8cc111",
   "metadata": {},
   "outputs": [
    {
     "name": "stdout",
     "output_type": "stream",
     "text": [
      "Rectangle:\n",
      "Area of the rectangle: 50\n",
      "Circumference of the rectangle: 30\n"
     ]
    }
   ],
   "source": [
    "# Calculate area and circumference of the rectangle\n",
    "rectangle_area = width * length\n",
    "rectangle_circumference = 2 * (width + length)\n",
    "\n",
    "# Print results for the rectangle\n",
    "print(\"Rectangle:\")\n",
    "print(\"Area of the rectangle:\", rectangle_area)\n",
    "print(\"Circumference of the rectangle:\", rectangle_circumference)\n"
   ]
  },
  {
   "cell_type": "code",
   "execution_count": 3,
   "id": "dc451b57-4484-4805-ab7c-44b873479319",
   "metadata": {},
   "outputs": [
    {
     "name": "stdout",
     "output_type": "stream",
     "text": [
      "\n",
      "Circle:\n",
      "Area of the circle: 153.93804002589985\n",
      "Circumference of the circle: 43.982297150257104\n"
     ]
    }
   ],
   "source": [
    "import math\n",
    "\n",
    "# Calculate area and circumference of the circle\n",
    "circle_area = math.pi * radius ** 2\n",
    "circle_circumference = 2 * math.pi * radius\n",
    "\n",
    "# Print results for the circle\n",
    "print(\"\\nCircle:\")\n",
    "print(\"Area of the circle:\", circle_area)\n",
    "print(\"Circumference of the circle:\", circle_circumference)\n"
   ]
  },
  {
   "cell_type": "code",
   "execution_count": null,
   "id": "e01eddf8-edef-4cb7-9989-d2f2b071601c",
   "metadata": {},
   "outputs": [],
   "source": []
  }
 ],
 "metadata": {
  "kernelspec": {
   "display_name": "Python 3 (ipykernel)",
   "language": "python",
   "name": "python3"
  },
  "language_info": {
   "codemirror_mode": {
    "name": "ipython",
    "version": 3
   },
   "file_extension": ".py",
   "mimetype": "text/x-python",
   "name": "python",
   "nbconvert_exporter": "python",
   "pygments_lexer": "ipython3",
   "version": "3.10.6"
  }
 },
 "nbformat": 4,
 "nbformat_minor": 5
}
