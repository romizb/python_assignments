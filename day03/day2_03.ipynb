{
 "cells": [
  {
   "cell_type": "code",
   "execution_count": 1,
   "metadata": {},
   "outputs": [
    {
     "name": "stdin",
     "output_type": "stream",
     "text": [
      "enter width:  3\n",
      "enter length:  10\n",
      "enter radius:  2\n"
     ]
    }
   ],
   "source": [
    "# Define dimensions for the rectangle\n",
    "width = int(input(\"enter width: \"))\n",
    "length = int(input(\"enter length: \")) \n",
    "\n",
    "# Define radius for the circle\n",
    "radius = int(input(\"enter radius: \")) "
   ]
  },
  {
   "cell_type": "code",
   "execution_count": 2,
   "metadata": {},
   "outputs": [
    {
     "name": "stdout",
     "output_type": "stream",
     "text": [
      "Rectangle:\n",
      "Area of the rectangle: 30\n",
      "Circumference of the rectangle: 26\n"
     ]
    }
   ],
   "source": [
    "# Calculate area and circumference of the rectangle\n",
    "rectangle_area = width * length\n",
    "rectangle_circumference = 2 * (width + length)\n",
    "\n",
    "# Print results for the rectangle\n",
    "print(\"Rectangle:\")\n",
    "print(\"Area of the rectangle:\", rectangle_area)\n",
    "print(\"Circumference of the rectangle:\", rectangle_circumference)\n"
   ]
  },
  {
   "cell_type": "code",
   "execution_count": 3,
   "metadata": {},
   "outputs": [
    {
     "name": "stdout",
     "output_type": "stream",
     "text": [
      "\n",
      "Circle:\n",
      "Area of the circle: 12.566370614359172\n",
      "Circumference of the circle: 12.566370614359172\n"
     ]
    }
   ],
   "source": [
    "import math\n",
    "\n",
    "# Calculate area and circumference of the circle\n",
    "circle_area = math.pi * radius ** 2\n",
    "circle_circumference = 2 * math.pi * radius\n",
    "\n",
    "# Print results for the circle\n",
    "print(\"\\nCircle:\")\n",
    "print(\"Area of the circle:\", circle_area)\n",
    "print(\"Circumference of the circle:\", circle_circumference)\n"
   ]
  }
 ],
 "metadata": {
  "kernelspec": {
   "display_name": "Python 3 (ipykernel)",
   "language": "python",
   "name": "python3"
  },
  "language_info": {
   "codemirror_mode": {
    "name": "ipython",
    "version": 3
   },
   "file_extension": ".py",
   "mimetype": "text/x-python",
   "name": "python",
   "nbconvert_exporter": "python",
   "pygments_lexer": "ipython3",
   "version": "3.10.6"
  }
 },
 "nbformat": 4,
 "nbformat_minor": 4
}
