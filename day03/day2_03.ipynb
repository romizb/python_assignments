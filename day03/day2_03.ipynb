{
 "cells": [
  {
   "cell_type": "code",
   "execution_count": null,
   "metadata": {},
   "outputs": [],
   "source": [
    "# Define dimensions for the rectangle\n",
    "width = int(input(\"enter width: \"))\n",
    "length = int(input(\"enter length: \")) \n",
    "\n",
    "# Define radius for the circle\n",
    "radius = int(input(\"enter radius: \")) "
   ]
  },
  {
   "cell_type": "code",
   "execution_count": null,
   "metadata": {},
   "outputs": [],
   "source": [
    "# Calculate area and circumference of the rectangle\n",
    "rectangle_area = width * length\n",
    "rectangle_circumference = 2 * (width + length)\n",
    "\n",
    "# Print results for the rectangle\n",
    "print(\"Rectangle:\")\n",
    "print(\"Area of the rectangle:\", rectangle_area)\n",
    "print(\"Circumference of the rectangle:\", rectangle_circumference)\n"
   ]
  },
  {
   "cell_type": "code",
   "execution_count": null,
   "metadata": {},
   "outputs": [],
   "source": [
    "import math\n",
    "\n",
    "# Calculate area and circumference of the circle\n",
    "circle_area = math.pi * radius ** 2\n",
    "circle_circumference = 2 * math.pi * radius\n",
    "\n",
    "# Print results for the circle\n",
    "print(\"\\nCircle:\")\n",
    "print(\"Area of the circle:\", circle_area)\n",
    "print(\"Circumference of the circle:\", circle_circumference)\n"
   ]
  }
 ],
 "metadata": {
  "language_info": {
   "name": "python"
  }
 },
 "nbformat": 4,
 "nbformat_minor": 2
}
