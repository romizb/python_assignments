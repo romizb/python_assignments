{
 "cells": [
  {
   "cell_type": "code",
   "execution_count": 1,
   "id": "8a406fb3-255b-4553-a397-feea08ddb3dd",
   "metadata": {},
   "outputs": [],
   "source": [
    "# Given values\n",
    "C1_values = [1,2,3,4,5,6,7,8,9,10]# TODO : at least 10 values\n",
    "V1 = 1 # TODO:Initial volume\n",
    "V2 = 5 # TODO: Final volume"
   ]
  },
  {
   "cell_type": "code",
   "execution_count": 2,
   "id": "f0b97ca8-cfd0-4154-87f2-17b0835cf839",
   "metadata": {},
   "outputs": [
    {
     "name": "stdout",
     "output_type": "stream",
     "text": [
      "Initial concentration: 1 mg/mL -> Final concentration: 0.20 mg/mL\n",
      "Initial concentration: 2 mg/mL -> Final concentration: 0.40 mg/mL\n",
      "Initial concentration: 3 mg/mL -> Final concentration: 0.60 mg/mL\n",
      "Initial concentration: 4 mg/mL -> Final concentration: 0.80 mg/mL\n",
      "Initial concentration: 5 mg/mL -> Final concentration: 1.00 mg/mL\n",
      "Initial concentration: 6 mg/mL -> Final concentration: 1.20 mg/mL\n",
      "Initial concentration: 7 mg/mL -> Final concentration: 1.40 mg/mL\n",
      "Initial concentration: 8 mg/mL -> Final concentration: 1.60 mg/mL\n",
      "Initial concentration: 9 mg/mL -> Final concentration: 1.80 mg/mL\n",
      "Initial concentration: 10 mg/mL -> Final concentration: 2.00 mg/mL\n"
     ]
    }
   ],
   "source": [
    "# Create an empty list to store the calculated C2 values\n",
    "C2_values = []\n",
    "\n",
    "# Part 1: Calculate C2 using a for loop\n",
    "for C1 in C1_values:\n",
    "    C2 = ((C1*V1)/V2) # TODO: Calculate final concentration\n",
    "    C2_values.append(C2)\n",
    "    print(f\"Initial concentration: {C1} mg/mL -> Final concentration: {C2:.2f} mg/mL\")"
   ]
  },
  {
   "cell_type": "code",
   "execution_count": 3,
   "id": "00b0c64e-1d48-451a-86d7-6412714de574",
   "metadata": {},
   "outputs": [
    {
     "name": "stdout",
     "output_type": "stream",
     "text": [
      "Calculated slopes: [0.2, 0.19999999999999996, 0.20000000000000007, 0.19999999999999996, 0.19999999999999996, 0.19999999999999996, 0.20000000000000018, 0.19999999999999996, 0.19999999999999996]\n"
     ]
    }
   ],
   "source": [
    "# Given data\n",
    "# C2 & C1 values are listed:\n",
    "# C1_values = [1,2,3,4,5,6,7,8,9,10]\n",
    "# C2_values = [0.20,0.40,0.60,0.80,1.00,1.20,1.40, 1.60,1.80,2.00)\n",
    "\n",
    "\n",
    "# Create an empty list to store slope values\n",
    "slopes = []\n",
    "\n",
    "# Calculate the slope for each consecutive pair of points\n",
    "for i in range(1, len(C1_values)):\n",
    "    x1, x2 = C1_values[i - 1], C1_values[i]\n",
    "    y1, y2 = C2_values[i - 1], C2_values[i]\n",
    "    slope =(y2 - y1) / (x2 - x1)    # TODO: Calculate the slope using the formula (y2 - y1) / (x2 - x1)\n",
    "\n",
    "    slopes.append(slope)\n",
    "\n",
    "# Print the list of calculated slopes\n",
    "print(\"Calculated slopes:\", slopes)"
   ]
  },
  {
   "cell_type": "code",
   "execution_count": null,
   "id": "a71eb4b7-97da-4a21-a7e4-e7734f7f4ce1",
   "metadata": {},
   "outputs": [
    {
     "name": "stdout",
     "output_type": "stream",
     "text": [
      "Ca concentration in medium: 0 Kw -> Chance of crystal formation: 0.00%\n",
      "Ca concentration in medium: 0.1 Kw -> Chance of crystal formation: 31.62%\n",
      "Ca concentration in medium: 0.2 Kw -> Chance of crystal formation: 44.72%\n",
      "Ca concentration in medium: 0.3 Kw -> Chance of crystal formation: 54.77%\n",
      "Ca concentration in medium: 0.4 Kw -> Chance of crystal formation: 63.25%\n",
      "Ca concentration in medium: 0.5 Kw -> Chance of crystal formation: 70.71%\n",
      "Ca concentration in medium: 0.6 Kw -> Chance of crystal formation: 77.46%\n",
      "Ca concentration in medium: 0.8 Kw -> Chance of crystal formation: 89.44%\n",
      "Ca concentration in medium: 0.9 Kw -> Chance of crystal formation: 94.87%\n",
      "Ca concentration in medium: 1 Kw -> Chance of crystal formation: 100.00%\n"
     ]
    }
   ],
   "source": [
    "# In our lab we research crystals\n",
    "# we know there is a correlation between the concentration of minerals to chance of crystal formation.\n",
    "# here i wrote a code that \"measures\" the chance of crystal synthesis, dependant on the concentration of the mineral Calcium.\n",
    "# crystal_formation = (Ca%)^2\n",
    "# these values are fabricated and this equation is theoretical.\n",
    "\n",
    "Ca_values= [0,0.1,0.2,0.3,0.4,0.5,0.6,0.8,0.9,1]\n",
    "crystal_values=[]\n",
    "\n",
    "import math\n",
    "\n",
    "for Ca in Ca_values:\n",
    "    crystal= (math.sqrt(Ca))*100 \n",
    "    crystal_values.append(crystal)\n",
    "    print(f\"Ca concentration in medium: {Ca} Kw -> Chance of crystal formation: {crystal:.2f}%\")\n",
    "    "
   ]
  },
  {
   "cell_type": "code",
   "execution_count": null,
   "id": "bf0663d6-3c3f-415d-9bdc-aee46e1f9c27",
   "metadata": {},
   "outputs": [],
   "source": []
  }
 ],
 "metadata": {
  "kernelspec": {
   "display_name": "Python 3 (ipykernel)",
   "language": "python",
   "name": "python3"
  },
  "language_info": {
   "codemirror_mode": {
    "name": "ipython",
    "version": 3
   },
   "file_extension": ".py",
   "mimetype": "text/x-python",
   "name": "python",
   "nbconvert_exporter": "python",
   "pygments_lexer": "ipython3",
   "version": "3.10.6"
  }
 },
 "nbformat": 4,
 "nbformat_minor": 5
}
