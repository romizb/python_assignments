{
 "cells": [
  {
   "cell_type": "code",
   "execution_count": 1,
   "id": "e2a0b4d9-66e3-4256-ac56-90c36847b3a3",
   "metadata": {},
   "outputs": [
    {
     "name": "stdout",
     "output_type": "stream",
     "text": [
      "Total number of genes: 24\n"
     ]
    }
   ],
   "source": [
    "# Given gene sequence\n",
    "gene_sequence = \"BRCA1,TP53,EGFR,BRCA1,PTEN,MYC,KRAS,APOE,CFTR,BRCA2,PIK3CA,ALK,ATM,HER2,BRAF,BRCA1,EGFR,TP53,CDH1,ABL1,EGFR,TP53,MYC,BRCA2\"\n",
    "\n",
    "# Split the text into individual genes\n",
    "gene_sequence_new = gene_sequence.split(\",\")\n",
    "\n",
    "# Count the number of genes\n",
    "num_genes = len(gene_sequence_new)\n",
    "\n",
    "print(f\"Total number of genes: {num_genes}\")\n"
   ]
  },
  {
   "cell_type": "code",
   "execution_count": 2,
   "id": "c70af81e-70fd-4377-b449-da4e13ee21ea",
   "metadata": {},
   "outputs": [
    {
     "name": "stdout",
     "output_type": "stream",
     "text": [
      "Gene occurrences: {'BRCA1': 3, 'TP53': 3, 'EGFR': 3, 'PTEN': 1, 'MYC': 2, 'KRAS': 1, 'APOE': 1, 'CFTR': 1, 'BRCA2': 2, 'PIK3CA': 1, 'ALK': 1, 'ATM': 1, 'HER2': 1, 'BRAF': 1, 'CDH1': 1, 'ABL1': 1}\n"
     ]
    }
   ],
   "source": [
    "# Initialize an empty dictionary to store gene counts\n",
    "gene_counts = {}\n",
    "\n",
    "# Loop through each gene in the list\n",
    "for gene in gene_sequence_new:\n",
    "    if gene in gene_counts:\n",
    "        # Increment the count for the gene\n",
    "        gene_counts[gene] += 1\n",
    "    else:\n",
    "        # Add the gene to the dictionary with a count of 1\n",
    "        gene_counts[gene] = 1\n",
    "\n",
    "# Print the result\n",
    "print(f\"Gene occurrences: {gene_counts}\")\n"
   ]
  },
  {
   "cell_type": "code",
   "execution_count": 3,
   "id": "39da9013-ca26-4d2b-a5e7-35f54a43aa16",
   "metadata": {},
   "outputs": [
    {
     "name": "stdout",
     "output_type": "stream",
     "text": [
      "BRCA1: 3\n",
      "PTEN: 1\n",
      "EGFR: 3\n",
      "FOXP3: not found (count: 0)\n"
     ]
    }
   ],
   "source": [
    "# List of specific genes to check\n",
    "genes_to_check = [\"BRCA1\", \"PTEN\", \"EGFR\", \"FOXP3\"]\n",
    "\n",
    "# Loop through specific genes to check their presence in the gene count dictionary\n",
    "for gene in genes_to_check:\n",
    "    if gene in gene_counts:\n",
    "        # Print the gene and its count if found\n",
    "        print(f\"{gene}: {gene_counts[gene]}\")\n",
    "    else:\n",
    "        # Print the gene and \"not found\" if not present\n",
    "        print(f\"{gene}: not found (count: {gene_counts.get(gene, 0)})\")\n"
   ]
  },
  {
   "cell_type": "code",
   "execution_count": 4,
   "id": "b4fb28f4-2b94-4f5f-8e93-37947787dc5e",
   "metadata": {},
   "outputs": [
    {
     "name": "stdout",
     "output_type": "stream",
     "text": [
      "Number of genes before adding: 24\n",
      "Number of genes after adding: 28\n"
     ]
    }
   ],
   "source": [
    "# List of new genes to add\n",
    "new_genes = [\"SMAD4\", \"NOTCH1\", \"APC\", \"MTOR\"]  # TODO: Add 4 new genes\n",
    "\n",
    "# Check and print the number of genes before adding\n",
    "original_count = len(gene_sequence_new)\n",
    "print(f\"Number of genes before adding: {original_count}\")\n",
    "\n",
    "# Add new genes to the existing list\n",
    "gene_sequence_new.extend(new_genes)\n",
    "\n",
    "# Check and print the number of genes after adding\n",
    "updated_count = len(gene_sequence_new)\n",
    "print(f\"Number of genes after adding: {updated_count}\")\n"
   ]
  },
  {
   "cell_type": "code",
   "execution_count": null,
   "id": "4bcc04c2-45f0-403d-b56b-6a7f55d6479d",
   "metadata": {},
   "outputs": [],
   "source": []
  }
 ],
 "metadata": {
  "kernelspec": {
   "display_name": "Python 3 (ipykernel)",
   "language": "python",
   "name": "python3"
  },
  "language_info": {
   "codemirror_mode": {
    "name": "ipython",
    "version": 3
   },
   "file_extension": ".py",
   "mimetype": "text/x-python",
   "name": "python",
   "nbconvert_exporter": "python",
   "pygments_lexer": "ipython3",
   "version": "3.10.6"
  }
 },
 "nbformat": 4,
 "nbformat_minor": 5
}
