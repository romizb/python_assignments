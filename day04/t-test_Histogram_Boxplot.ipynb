{
 "cells": [
  {
   "cell_type": "code",
   "execution_count": 1,
   "id": "be8854e5-1974-4c7f-999b-23770193177f",
   "metadata": {},
   "outputs": [],
   "source": [
    "#Generate Two Random Distributions\n",
    "import numpy as np\n",
    "\n",
    "dist1 = np.random.randn(100)  # Standard normal distribution\n",
    "dist2 = np.random.randn(100) + 2  # Shifted normal distribution"
   ]
  },
  {
   "cell_type": "code",
   "execution_count": null,
   "id": "e770c5e3-f0e3-4c34-876b-c2bb585b9a85",
   "metadata": {},
   "outputs": [
    {
     "ename": "ModuleNotFoundError",
     "evalue": "No module named 'scipy'",
     "output_type": "error",
     "traceback": [
      "\u001b[1;31m---------------------------------------------------------------------------\u001b[0m",
      "\u001b[1;31mModuleNotFoundError\u001b[0m                       Traceback (most recent call last)",
      "Cell \u001b[1;32mIn[2], line 2\u001b[0m\n\u001b[0;32m      1\u001b[0m \u001b[38;5;66;03m# Perform t-test\u001b[39;00m\n\u001b[1;32m----> 2\u001b[0m \u001b[38;5;28;01mfrom\u001b[39;00m \u001b[38;5;21;01mscipy\u001b[39;00m\u001b[38;5;21;01m.\u001b[39;00m\u001b[38;5;21;01mstats\u001b[39;00m \u001b[38;5;28;01mimport\u001b[39;00m ttest_ind\n\u001b[0;32m      4\u001b[0m t_stat, p_value \u001b[38;5;241m=\u001b[39m ttest_ind(dist1, dist2)\n\u001b[0;32m      5\u001b[0m \u001b[38;5;66;03m#ttest_ind: Performs a two-sample t-test to compare the means of two independent samples.\u001b[39;00m\n\u001b[0;32m      6\u001b[0m \u001b[38;5;66;03m#t_stat: the difference between sample means relative to the standard error.\u001b[39;00m\n\u001b[0;32m      7\u001b[0m \u001b[38;5;66;03m#p_value: the difference between two populations.\u001b[39;00m\n",
      "\u001b[1;31mModuleNotFoundError\u001b[0m: No module named 'scipy'"
     ]
    }
   ],
   "source": [
    "# Perform t-test\n",
    "from scipy.stats import ttest_ind\n",
    "\n",
    "t_stat, p_value = ttest_ind(dist1, dist2)\n",
    "#ttest_ind: Performs a t-test.\n",
    "#t_stat: the difference between sample means relative to the standard error.\n",
    "#p_value: the difference between two populations.\n",
    "\n",
    "print(\"t-statistic:\", t_stat)\n",
    "print(\"p-value:\", p_value)"
   ]
  },
  {
   "cell_type": "code",
   "execution_count": null,
   "id": "f5db1a6e-2d7b-4b8a-a574-246135eeffa0",
   "metadata": {},
   "outputs": [],
   "source": [
    "#Visualize with Histograms\n",
    "import matplotlib.pyplot as plt\n",
    "\n",
    "\n",
    "plt.hist(dist1, bins=20, color='blue', alpha=0.7, label='Distribution 1')  # Histogram for dist1\n",
    "plt.hist(dist2, bins=20, color='orange', alpha=0.7, label='Distribution 2')  # Histogram for dist2\n",
    "\n",
    "#bins=20: Divides the data into 20 bins.\n",
    "#color='__'':  colors for each histogram.\n",
    "#alpha=0.7: Adds transparency so overlapping parts of the histograms are visible.\n",
    "#label='...': Labels for the legend.\n",
    "\n",
    "\n",
    "plt.legend() # Displays the legend.\n",
    "plt.title('Histograms of Two Distributions')\n",
    "plt.xlabel('Value')\n",
    "plt.ylabel('Frequency')\n",
    "#plt.title(), plt.xlabel(), plt.ylabel(): Add a title and axis labels for clarity.\n",
    "\n",
    "\n",
    "plt.show() # Show plot"
   ]
  },
  {
   "cell_type": "code",
   "execution_count": 3,
   "id": "3edf46f4-cb19-4b2b-8b8e-04806212e6da",
   "metadata": {},
   "outputs": [
    {
     "ename": "NameError",
     "evalue": "name 'plt' is not defined",
     "output_type": "error",
     "traceback": [
      "\u001b[1;31m---------------------------------------------------------------------------\u001b[0m",
      "\u001b[1;31mNameError\u001b[0m                                 Traceback (most recent call last)",
      "Cell \u001b[1;32mIn[3], line 2\u001b[0m\n\u001b[0;32m      1\u001b[0m \u001b[38;5;66;03m# Create boxplots\u001b[39;00m\n\u001b[1;32m----> 2\u001b[0m \u001b[43mplt\u001b[49m\u001b[38;5;241m.\u001b[39mboxplot([dist1, dist2], labels\u001b[38;5;241m=\u001b[39m[\u001b[38;5;124m'\u001b[39m\u001b[38;5;124mDistribution 1\u001b[39m\u001b[38;5;124m'\u001b[39m, \u001b[38;5;124m'\u001b[39m\u001b[38;5;124mDistribution 2\u001b[39m\u001b[38;5;124m'\u001b[39m])\n\u001b[0;32m      3\u001b[0m \u001b[38;5;66;03m#plt.boxplot([_,_]): Creates boxplots for dist1 and dist2.\u001b[39;00m\n\u001b[0;32m      4\u001b[0m \u001b[38;5;66;03m#labels=['_,_']: Adds labels to each boxplot.\u001b[39;00m\n\u001b[0;32m      6\u001b[0m plt\u001b[38;5;241m.\u001b[39mtitle(\u001b[38;5;124m'\u001b[39m\u001b[38;5;124mBoxplots of Two Distributions\u001b[39m\u001b[38;5;124m'\u001b[39m) \u001b[38;5;66;03m#Add a title\u001b[39;00m\n",
      "\u001b[1;31mNameError\u001b[0m: name 'plt' is not defined"
     ]
    }
   ],
   "source": [
    "# Create boxplots\n",
    "plt.boxplot([dist1, dist2], labels=['Distribution 1', 'Distribution 2'])\n",
    "#plt.boxplot([_,_]): Creates boxplots for dist1 and dist2.\n",
    "#labels=['_,_']: Adds labels to each boxplot.\n",
    "\n",
    "plt.title('Boxplots of Two Distributions') #Add a title\n",
    "plt.ylabel('Values') #y-axis label\n",
    "\n",
    "plt.show() # Show the plot"
   ]
  },
  {
   "cell_type": "code",
   "execution_count": 4,
   "id": "0696dc8d-174b-4749-87c4-5032cd29abf2",
   "metadata": {},
   "outputs": [
    {
     "name": "stdout",
     "output_type": "stream",
     "text": [
      "Question 1: What is 14 - 12?\n"
     ]
    },
    {
     "name": "stdout",
     "output_type": "stream",
     "text": [
      "Your answer:  2\n"
     ]
    },
    {
     "name": "stdout",
     "output_type": "stream",
     "text": [
      "Correct!\n",
      "Question 2: What is 18 - 15?\n"
     ]
    },
    {
     "name": "stdout",
     "output_type": "stream",
     "text": [
      "Your answer:  3\n"
     ]
    },
    {
     "name": "stdout",
     "output_type": "stream",
     "text": [
      "Correct!\n",
      "Question 3: What is 15 - 7?\n"
     ]
    },
    {
     "name": "stdout",
     "output_type": "stream",
     "text": [
      "Your answer:  8\n"
     ]
    },
    {
     "name": "stdout",
     "output_type": "stream",
     "text": [
      "Correct!\n",
      "Question 4: What is 15 - 10?\n"
     ]
    },
    {
     "name": "stdout",
     "output_type": "stream",
     "text": [
      "Your answer:  5\n"
     ]
    },
    {
     "name": "stdout",
     "output_type": "stream",
     "text": [
      "Correct!\n",
      "Question 5: What is 6 - 2?\n"
     ]
    },
    {
     "name": "stdout",
     "output_type": "stream",
     "text": [
      "Your answer:  4\n"
     ]
    },
    {
     "name": "stdout",
     "output_type": "stream",
     "text": [
      "Correct!\n",
      "\n",
      "You scored 5/5!\n"
     ]
    }
   ],
   "source": [
    "#five subtraction questions\n",
    "import random\n",
    "\n",
    "# Initialize score\n",
    "score = 0\n",
    "\n",
    "# Loop to ask 5 questions\n",
    "for i in range(5):\n",
    "    # Generate two random numbers\n",
    "    num1 = random.randint(1, 20)  # Random number between 1 and 20\n",
    "    num2 = random.randint(1, 20)  # Random number between 1 and 20\n",
    "\n",
    "    # Ensure the result is non-negative by ordering the numbers\n",
    "    if num1 < num2:\n",
    "        num1, num2 = num2, num1\n",
    "\n",
    "    # Ask the question\n",
    "    print(f\"Question {i+1}: What is {num1} - {num2}?\")\n",
    "    user_answer = int(input(\"Your answer: \"))\n",
    "\n",
    "    # Check the answer\n",
    "    if user_answer == (num1 - num2):\n",
    "        print(\"Correct!\")\n",
    "        score += 1\n",
    "    else:\n",
    "        print(f\"Wrong! The correct answer is {num1 - num2}.\")\n",
    "\n",
    "# Display the final score\n",
    "print(f\"\\nYou scored {score}/5!\")\n"
   ]
  },
  {
   "cell_type": "code",
   "execution_count": null,
   "id": "a08f6f2b-cba3-4311-8baf-76dce977ae5e",
   "metadata": {},
   "outputs": [],
   "source": []
  }
 ],
 "metadata": {
  "kernelspec": {
   "display_name": "Python 3 (ipykernel)",
   "language": "python",
   "name": "python3"
  },
  "language_info": {
   "codemirror_mode": {
    "name": "ipython",
    "version": 3
   },
   "file_extension": ".py",
   "mimetype": "text/x-python",
   "name": "python",
   "nbconvert_exporter": "python",
   "pygments_lexer": "ipython3",
   "version": "3.10.6"
  }
 },
 "nbformat": 4,
 "nbformat_minor": 5
}
